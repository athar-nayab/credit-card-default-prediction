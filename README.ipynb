{
 "cells": [
  {
   "cell_type": "markdown",
   "id": "4db115f1-8959-4b37-bb07-75a43287ee0c",
   "metadata": {},
   "source": [
    "# Credit Card Default Prediction\n",
    "\n",
    "## 📌 Problem Statement\n",
    "Predict whether a customer will default on their next credit card payment.  \n",
    "This helps the business:\n",
    "- Reduce financial risk\n",
    "- Identify high-risk customers early\n",
    "- Optimize credit decisions\n",
    "    \n",
    "### 📊 Data & Approach\n",
    "- Dataset: 30,000 credit card clients (UCI dataset).\n",
    "- Steps followed:\n",
    "  1. Data cleaning & preprocessing  \n",
    "  2. Feature engineering & scaling  \n",
    "  3. Exploratory analysis & visualizations  \n",
    "  4. Model building: Logistic Regression, Decision Tree, Gradient Boosting  \n",
    "  5. Hyperparameter tuning with GridSearchCV  \n",
    "  6. Model evaluation with Accuracy, Precision, Recall, F1-score,# ROC AUC  \n",
    "\n",
    "---\n",
    "\n",
    "### 🔎 Model Performance (Test Set)\n",
    "\n",
    "| Model                  | Accuracy | Recall (Defaulters) | Precision | ROC AUC |\n",
    "|-------------------------|----------|----------------------|-----------|---------|\n",
    "| Logistic Regression     | 0.69     | **0.59**             | 0.38      | 0.70    |\n",
    "| Decision Tree           | 0.74     | 0.51                 | 0.42      | 0.70    |\n",
    "| Gradient Boosting (Best)| **0.77** | 0.50                 | *#*0.49**  | **0.74**|\n",
    "##\n",
    "---\n",
    "\n",
    "### 📈 Visualizations\n",
    "#### Model Comparison\n",
    "![Model Comparison#](images/model_comparison.png)\n",
    "\n",
    "#### Confusion Matrix – Gradient Boosting\n",
    "![Confusion Matrix](im#ages/confusion_matrix_gb.png)\n",
    "\n",
    "---\n",
    "\n",
    "### 💡 Insights\n",
    "- Logistic Regression has higher **Recall**, useful if the goal is to catch as many defaulters as possible.\n",
    "- Gradient Boosting provides the **best overall trade-off**, achieving the highest Accuracy and ROC AUC.\n",
    "- Decision Tree is interpretable but# weaker compared to Gradient Boosting.\n",
    "\n",
    "---\n",
    "\n",
    "### ✅ Recommendation\n",
    "We recommend deploying the **Gradient Boosting model** as the default risk prediction tool:\n",
    "- Balances Precision & Recall better than other models.\n",
    "- Highest overall ROC AUC score (0.74).\n",
    "- Threshold can be adjusted later depending on business prioritie#s (e.g., maximize Recall for risk reduction).\n",
    "\n",
    "---\n",
    "\n",
    "### 📂 Repository Structure\n"
   ]
  },
  {
   "cell_type": "code",
   "execution_count": null,
   "id": "6eabffd4-6f13-458e-bd0e-75d6b6de74b5",
   "metadata": {},
   "outputs": [],
   "source": []
  }
 ],
 "metadata": {
  "kernelspec": {
   "display_name": "Python 3 (ipykernel)",
   "language": "python",
   "name": "python3"
  },
  "language_info": {
   "codemirror_mode": {
    "name": "ipython",
    "version": 3
   },
   "file_extension": ".py",
   "mimetype": "text/x-python",
   "name": "python",
   "nbconvert_exporter": "python",
   "pygments_lexer": "ipython3",
   "version": "3.12.4"
  }
 },
 "nbformat": 4,
 "nbformat_minor": 5
}
